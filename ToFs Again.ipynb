{
 "cells": [
  {
   "cell_type": "markdown",
   "metadata": {},
   "source": [
    "# ToF utilities\n",
    "\n",
    "## Overview\n",
    "Idea of this notebook is to have a sot of common testing/troubleshooting and calibrating tools for Misty's ToFs in one place, make them easily usable and sharable with Misty users."
   ]
  },
  {
   "cell_type": "markdown",
   "metadata": {},
   "source": [
    "## Subscribe to Web Sockets get Data + Almost real-time analysis\n",
    "\n",
    "Let's get ToF data from the Robot and analyze it almost real-time.\n",
    "For this we are going to use external lib _**misty_wc.py**_\n",
    "\n",
    "### How to include:\n",
    "\n",
    "<code>import os</code><br/>\n",
    "<code>import sys</code><br/>\n",
    "<code>sys.path.insert(0, os.getcwd())</code><br/>\n",
    "<code>from misty_wc import MistyEventInequality, EventCondition, MistyWsEvent, MistyWebClient</code>\n",
    "\n",
    "### How to use:\n",
    "\n",
    "- define callback<br>\n",
    "<code>def onMsg(msg):</code><br>\n",
    "<code>    print(msg)</code>\n",
    "<br/><br/>\n",
    "- define Event Condition:<br>\n",
    "<code>ec = EventCondition(\"SensorPosition\", MistyEventInequality.Equal, \"Right\")</code>\n",
    "<br/><br/>\n",
    "- define Event:<br>\n",
    "<code>tofrrEvent = MistyWsEvent(\"TimeOfFlight\", \"tof_r_r\", 1000, [ec], onMsg)</code>\n",
    "<br/><br/>\n",
    "- define Misty Web Client<br>\n",
    "<code>mwc = MistyWebClient(\"169.254.206.171\")</code>\n",
    "<br/><br/>\n",
    "- using of the rest API commands:<br>\n",
    "<code>mwc.post(\"led\", json={\"red\":0, \"green\": 0, \"blue\": 250})</code>\n",
    "<br/><br/>\n",
    "- to make client start listening:<br>\n",
    "<code>mwc.startListen()</code>\n",
    "<br/><br/>\n",
    "- to add event to listen to (this could be done before or after mwc.startListen() is called) :<br>\n",
    "<code>mwc.addEvent(tofrrEvent)</code>\n",
    "<br/><br/>\n",
    "- remove event from the subscribers list, i.e. no more callback on this event:<br>\n",
    "<code>mwc.removeEvent(tofrrEvent)</code>\n",
    "<br/><br/>\n",
    "- to make client stop listening:<br>\n",
    "<code>mwc.stopListen()</code>\n",
    "<br/><br/>\n",
    "\n"
   ]
  },
  {
   "cell_type": "markdown",
   "metadata": {},
   "source": [
    "### Example:"
   ]
  },
  {
   "cell_type": "code",
   "execution_count": 8,
   "metadata": {
    "code_folding": [
     12
    ]
   },
   "outputs": [
    {
     "name": "stdout",
     "output_type": "stream",
     "text": [
      "Websocket thread started\n",
      "{'eventName': 'tof_r_r', 'message': {'averageTimeMs': 80, 'created': '2019-12-09T23:42:31.8915204Z', 'distanceInMeters': 0.287, 'sensorId': 'toffr', 'sensorPosition': 'Right', 'sigma': 6, 'signal': 19344, 'status': 0, 'type': 'Range'}}\n",
      "________________________________________________________________________________\n",
      "{'id': 0, 'SensorId': 'toffr', 'Time': '2019-12-09T23:42:31.8915204Z', 'Distance': 0.287, 'Status': 0, 'AvgTime': 80, 'Sigma': 6, 'Signal': 19344}\n",
      "________________________________________________________________________________\n",
      "{'eventName': 'tof_r_r', 'message': {'averageTimeMs': 80, 'created': '2019-12-09T23:42:33.1166741Z', 'distanceInMeters': 0.288, 'sensorId': 'toffr', 'sensorPosition': 'Right', 'sigma': 6, 'signal': 19240, 'status': 0, 'type': 'Range'}}\n",
      "________________________________________________________________________________\n",
      "{'id': 1, 'SensorId': 'toffr', 'Time': '2019-12-09T23:42:33.1166741Z', 'Distance': 0.288, 'Status': 0, 'AvgTime': 80, 'Sigma': 6, 'Signal': 19240}\n",
      "________________________________________________________________________________\n",
      "{'eventName': 'tof_r_r', 'message': {'averageTimeMs': 84, 'created': '2019-12-09T23:42:34.3316939Z', 'distanceInMeters': 0.286, 'sensorId': 'toffr', 'sensorPosition': 'Right', 'sigma': 6, 'signal': 19112, 'status': 0, 'type': 'Range'}}\n",
      "________________________________________________________________________________\n",
      "{'id': 2, 'SensorId': 'toffr', 'Time': '2019-12-09T23:42:34.3316939Z', 'Distance': 0.286, 'Status': 0, 'AvgTime': 84, 'Sigma': 6, 'Signal': 19112}\n",
      "________________________________________________________________________________\n",
      "{'eventName': 'tof_r_r', 'message': {'averageTimeMs': 80, 'created': '2019-12-09T23:42:35.5464057Z', 'distanceInMeters': 0.287, 'sensorId': 'toffr', 'sensorPosition': 'Right', 'sigma': 6, 'signal': 21624, 'status': 0, 'type': 'Range'}}\n",
      "________________________________________________________________________________\n",
      "{'id': 3, 'SensorId': 'toffr', 'Time': '2019-12-09T23:42:35.5464057Z', 'Distance': 0.287, 'Status': 0, 'AvgTime': 80, 'Sigma': 6, 'Signal': 21624}\n",
      "________________________________________________________________________________\n",
      "{'eventName': 'tof_r_r', 'message': {'averageTimeMs': 84, 'created': '2019-12-09T23:42:36.7627359Z', 'distanceInMeters': 0.286, 'sensorId': 'toffr', 'sensorPosition': 'Right', 'sigma': 6, 'signal': 19176, 'status': 0, 'type': 'Range'}}\n",
      "________________________________________________________________________________\n",
      "{'id': 4, 'SensorId': 'toffr', 'Time': '2019-12-09T23:42:36.7627359Z', 'Distance': 0.286, 'Status': 0, 'AvgTime': 84, 'Sigma': 6, 'Signal': 19176}\n",
      "________________________________________________________________________________\n"
     ]
    }
   ],
   "source": [
    "import os\n",
    "import sys  \n",
    "\n",
    "sys.path.insert(0, os.getcwd())\n",
    "from misty_wc import MistyEventInequality, EventCondition, MistyWsEvent, MistyWebClient\n",
    "        \n",
    "# Test example:\n",
    "from time import sleep\n",
    "\n",
    "_cnt = -1\n",
    "test_ip = \"10.0.0.194\"\n",
    "\n",
    "def test_onMsg(msg):\n",
    "    global _cnt\n",
    "    print(msg)\n",
    "    print(\"_\"*80)\n",
    "    _cnt += 1\n",
    "    row = {}\n",
    "    row[\"id\"] = _cnt\n",
    "    row[\"SensorId\"] = msg[\"message\"][\"sensorId\"]\n",
    "    row[\"Time\"] = msg[\"message\"][\"created\"]\n",
    "    row[\"Distance\"] = msg[\"message\"][\"distanceInMeters\"]\n",
    "    row[\"Status\"] = msg[\"message\"][\"status\"]\n",
    "    row[\"AvgTime\"] = msg[\"message\"][\"averageTimeMs\"]\n",
    "    row[\"Sigma\"] = msg[\"message\"][\"sigma\"]\n",
    "    row[\"Signal\"] = msg[\"message\"][\"signal\"]\n",
    "    print(row)\n",
    "    print(\"_\"*80)\n",
    "\n",
    "test_ec = EventCondition(\"SensorPosition\", MistyEventInequality.Equal, \"Right\")\n",
    "test_tofrrEvent = MistyWsEvent(\"TimeOfFlight\", \"tof_r_r\", 1000, [test_ec], test_onMsg)\n",
    "\n",
    "test_mwc = MistyWebClient(test_ip)\n",
    "test_mwc.post(\"led\", json={\"red\":0, \"green\": 0, \"blue\": 250})\n",
    "test_mwc.startListen()\n",
    "test_mwc.addEvent(test_tofrrEvent)\n",
    "test_mwc.post(\"led\", json={\"red\":0, \"green\": 127, \"blue\": 0})\n",
    "\n",
    "#wait to collect data, or do other stuff \"in parallel \n",
    "sleep(5)\n",
    "\n",
    "test_mwc.post(\"led\", json={\"red\":250, \"green\": 0, \"blue\": 0})\n",
    "test_mwc.removeEvent(test_tofrrEvent)\n",
    "test_mwc.stopListen()\n",
    "test_mwc.post(\"led\", json={\"red\":0, \"green\": 0, \"blue\": 250})\n",
    "\n",
    "test_mwc = None"
   ]
  },
  {
   "cell_type": "code",
   "execution_count": 2,
   "metadata": {
    "code_folding": [
     8
    ]
   },
   "outputs": [],
   "source": [
    "import json\n",
    "import matplotlib.pyplot as plt\n",
    "import numpy as np\n",
    "import pandas as pd\n",
    "from IPython.display import display, clear_output\n",
    "\n",
    "_cnt = 0\n",
    "\n",
    "class Charting:\n",
    "    \n",
    "    def __init__(self, fig, pointsNum = 20):\n",
    "        self.fig = fig\n",
    "        self.fig.my_ax = self.fig.add_subplot(1,1,1)\n",
    "        self.fig.show()\n",
    "        self.fig.canvas.draw()\n",
    "        self.tofs = pd.DataFrame(columns=[\"id\", \"SensorId\", \"Time\",\n",
    "                                \"Distance\", \"Status\", \"AvgTime\", \"Sigma\", \"Signal\"])\n",
    "        self.cnt = 0\n",
    "        self.PointsNum = pointsNum\n",
    "\n",
    "    def parseTofMsg(self, msgParsed = {}):\n",
    "        global _cnt\n",
    "        _cnt += 1\n",
    "\n",
    "        row = {}\n",
    "        row[\"id\"] = _cnt\n",
    "        row[\"SensorId\"] = msgParsed[\"message\"][\"sensorId\"]\n",
    "        row[\"Time\"] = pd.to_datetime(msgParsed[\"message\"][\"created\"])\n",
    "        row[\"Distance\"] = msgParsed[\"message\"][\"distanceInMeters\"]\n",
    "        row[\"Status\"] = msgParsed[\"message\"][\"status\"]\n",
    "        row[\"AvgTime\"] = msgParsed[\"message\"][\"averageTimeMs\"]\n",
    "        row[\"Sigma\"] = msgParsed[\"message\"][\"sigma\"]\n",
    "        row[\"Signal\"] = msgParsed[\"message\"][\"signal\"]\n",
    "        return pd.DataFrame(row, columns=[\"id\", \"SensorId\", \"Time\", \"Distance\", \"Status\", \"AvgTime\", \"Sigma\", \"Signal\"], index=[row[\"id\"]])\n",
    "\n",
    "    def updateLine(self, lastN = 20):\n",
    "        ppp = self.tofs.tail(lastN).loc[:,[\"id\", \"Distance\", \"Sigma\",\"Signal\"]]\n",
    "        self.fig.my_ax.cla()\n",
    "        #self.fig.ax.plot(ppp[\"id\"], ppp[\"Distance\"], ppp[\"Sigma\"],ppp[\"Signal\"])\n",
    "        self.fig.my_ax.plot( ppp[\"id\"], ppp[\"Distance\"])\n",
    "        #self.fig.canvas.draw()\n",
    "        display(self.fig)\n",
    "        clear_output(wait = True)\n",
    "        plt.pause(0.9)\n",
    "\n",
    "        #self.fig.canvas.draw()\n",
    "        #self.fig.my_ax.plot( ppp[\"id\"], ppp[\"Sigma\"]) \n",
    "        #self.fig.canvas.draw()\n",
    "        #self.fig.my_ax.plot( ppp[\"id\"], ppp[\"Signal\"])\n",
    "        #self.fig.canvas.draw()\n",
    "\n",
    "    def addMsgToDF(self, msg):\n",
    "        self.cnt += 1\n",
    "        x1 = self.parseTofMsg(msg)\n",
    "        if x1 is None: return None\n",
    "        self.tofs = pd.concat([self.tofs, x1])\n",
    "        if self.cnt % self.PointsNum : \n",
    "            self.updateLine(self.PointsNum)\n",
    "        "
   ]
  },
  {
   "cell_type": "code",
   "execution_count": 3,
   "metadata": {
    "scrolled": true
   },
   "outputs": [
    {
     "data": {
      "text/plain": [
       "<Response [200]>"
      ]
     },
     "execution_count": 3,
     "metadata": {},
     "output_type": "execute_result"
    }
   ],
   "source": [
    "import os\n",
    "import sys  \n",
    "sys.path.insert(0, os.getcwd())\n",
    "from misty_wc import MistyEventInequality, EventCondition, MistyWsEvent, MistyWebClient\n",
    "from time import sleep\n",
    "\n",
    "#robotIP = \"169.254.206.171\"\n",
    "robotIP = \"10.0.0.194\"\n",
    "_cnt = -1\n",
    "fig1 = plt.figure()\n",
    "plt.ion()\n",
    "\n",
    "ch = Charting(fig1)\n",
    "\n",
    "ec = EventCondition(\"SensorPosition\", MistyEventInequality.Equal, \"Right\")\n",
    "tofrrEvent = MistyWsEvent(\"TimeOfFlight\", \"tof_r_r\", 100, [ec], ch.addMsgToDF)\n",
    "\n",
    "mwc = MistyWebClient(robotIP)\n",
    "mwc.addEvent(tofrrEvent)\n",
    "mwc.startListen()\n",
    "mwc.post(\"led\", json={\"red\":0, \"green\": 127, \"blue\": 0})\n",
    "sleep(240)\n",
    "ch.updateLine( len(ch.tofs))\n",
    "mwc.stopListen()\n",
    "mwc.post(\"led\", json={\"red\":0, \"green\": 0, \"blue\": 250})\n"
   ]
  },
  {
   "cell_type": "code",
   "execution_count": 9,
   "metadata": {},
   "outputs": [],
   "source": [
    "#run this if some error has happened in cell above and events have not stopped comming\n",
    "mwc.stopListen()"
   ]
  },
  {
   "cell_type": "code",
   "execution_count": 5,
   "metadata": {},
   "outputs": [
    {
     "name": "stdout",
     "output_type": "stream",
     "text": [
      "<class 'pandas.core.frame.DataFrame'>\n",
      "Int64Index: 239 entries, 0 to 238\n",
      "Data columns (total 9 columns):\n",
      "id          239 non-null object\n",
      "SensorId    239 non-null object\n",
      "Time        239 non-null object\n",
      "Distance    239 non-null float64\n",
      "Status      239 non-null object\n",
      "AvgTime     239 non-null object\n",
      "Sigma       239 non-null object\n",
      "Signal      239 non-null object\n",
      "Error       239 non-null float64\n",
      "dtypes: float64(2), object(7)\n",
      "memory usage: 12.1+ KB\n",
      "None\n",
      "________________________________________________________________________________\n",
      "count    239.000000\n",
      "mean       0.286452\n",
      "std        0.001027\n",
      "min        0.284000\n",
      "25%        0.286000\n",
      "50%        0.287000\n",
      "75%        0.287000\n",
      "max        0.289000\n",
      "Name: Distance, dtype: float64\n",
      "________________________________________________________________________________\n",
      "count    239.000000\n",
      "mean      -0.000048\n",
      "std        0.001027\n",
      "min       -0.002500\n",
      "25%       -0.000500\n",
      "50%        0.000500\n",
      "75%        0.000500\n",
      "max        0.002500\n",
      "Name: Error, dtype: float64\n"
     ]
    },
    {
     "data": {
      "image/png": "[encoded data removed]",
      "text/plain": [
       "<Figure size 432x288 with 1 Axes>"
      ]
     },
     "metadata": {},
     "output_type": "display_data"
    }
   ],
   "source": [
    "realDistance = 0.2865\n",
    "ch.tofs[\"Error\"] = ch.tofs[\"Distance\"] -  realDistance\n",
    "\n",
    "print(ch.tofs.info())\n",
    "print(\"_\"*80)\n",
    "print(ch.tofs[\"Distance\"].describe()) \n",
    "print(\"_\"*80)\n",
    "print(ch.tofs[\"Error\"].describe())\n",
    "\n",
    "\n",
    "ch.updateLine(180)\n"
   ]
  },
  {
   "cell_type": "markdown",
   "metadata": {},
   "source": [
    "## Work with ROI + Signal & Sigma Thresholds\n",
    "### Configure \"Runtime\" ROI + Signal & Sigma Thresholds\n",
    "### Restore Saved \"Runtime\" ROI + Signal & Sigma Thresholds\n",
    "### Save current to EEPROM, Get Saved  ROI + Signal & Sigma Thresholds\n"
   ]
  },
  {
   "cell_type": "code",
   "execution_count": 1,
   "metadata": {},
   "outputs": [
    {
     "ename": "NameError",
     "evalue": "name 'plt' is not defined",
     "output_type": "error",
     "traceback": [
      "\u001b[1;31m---------------------------------------------------------------------------\u001b[0m",
      "\u001b[1;31mNameError\u001b[0m                                 Traceback (most recent call last)",
      "\u001b[1;32m<ipython-input-1-ab15fe2af26a>\u001b[0m in \u001b[0;36m<module>\u001b[1;34m\u001b[0m\n\u001b[1;32m----> 1\u001b[1;33m \u001b[0mplt\u001b[0m\u001b[1;33m.\u001b[0m\u001b[0mshow\u001b[0m\u001b[1;33m(\u001b[0m\u001b[1;33m)\u001b[0m\u001b[1;33m\u001b[0m\u001b[1;33m\u001b[0m\u001b[0m\n\u001b[0m\u001b[0;32m      2\u001b[0m \u001b[0mws\u001b[0m\u001b[1;33m.\u001b[0m\u001b[0mfig\u001b[0m\u001b[1;33m.\u001b[0m\u001b[0mshow\u001b[0m\u001b[1;33m(\u001b[0m\u001b[1;33m)\u001b[0m\u001b[1;33m\u001b[0m\u001b[1;33m\u001b[0m\u001b[0m\n\u001b[0;32m      3\u001b[0m \u001b[0mws\u001b[0m\u001b[1;33m.\u001b[0m\u001b[0mfig\u001b[0m\u001b[1;33m.\u001b[0m\u001b[0mcanvas\u001b[0m\u001b[1;33m.\u001b[0m\u001b[0mdraw\u001b[0m\u001b[1;33m(\u001b[0m\u001b[1;33m)\u001b[0m\u001b[1;33m\u001b[0m\u001b[1;33m\u001b[0m\u001b[0m\n\u001b[0;32m      4\u001b[0m \u001b[1;33m\u001b[0m\u001b[0m\n\u001b[0;32m      5\u001b[0m \u001b[1;33m\u001b[0m\u001b[0m\n",
      "\u001b[1;31mNameError\u001b[0m: name 'plt' is not defined"
     ]
    }
   ],
   "source": [
    "plt.show()\n",
    "ws.fig.show()\n",
    "ws.fig.canvas.draw()\n",
    "\n",
    "    \n",
    "ppp = ws.tofs.tail(20).loc[:,[\"id\", \"Distance\", \"Sigma\",\"Signal\"]]\n",
    "print( ppp)\n",
    "ws.fig.ax.plot( [ppp[\"id\"], ppp[\"Distance\"]] , [ppp[\"id\"], ppp[\"Sigma\"]] , [ppp[\"id\"], ppp[\"Signal\"]])\n",
    "ws.fig.canvas.draw()\n",
    "\n",
    "##\n",
    "#fig = plt.figure()\n",
    "#ax = fig.subplots()\n",
    "#plt.ion()\n",
    "#fig.show()\n",
    "#fig.canvas.draw()\n",
    "\n",
    "#print(tofs.loc[:,[\"id\",\"Distance\"]]) \n",
    "#help(ax.plot)\n",
    "\n",
    "#ax.clear()\n",
    "#ax.plot(tofs.loc[:20,[\"id\"]], tofs.loc[:20,[\"Distance\"]])\n",
    "#ax.plot(ppp[\"id\"], ppp[\"Distance\"])\n",
    "\n",
    "#fig.canvas.draw()\n"
   ]
  },
  {
   "cell_type": "markdown",
   "metadata": {},
   "source": [
    "## Calibration\n",
    "### Calibrate Offset\n",
    "### Calibrate Crosstalk\n",
    "### Reset to default settings\n"
   ]
  },
  {
   "cell_type": "code",
   "execution_count": null,
   "metadata": {},
   "outputs": [],
   "source": []
  }
 ],
 "metadata": {
  "kernelspec": {
   "display_name": "Python 3",
   "language": "python",
   "name": "python3"
  },
  "language_info": {
   "codemirror_mode": {
    "name": "ipython",
    "version": 3
   },
   "file_extension": ".py",
   "mimetype": "text/x-python",
   "name": "python",
   "nbconvert_exporter": "python",
   "pygments_lexer": "ipython3",
   "version": "3.7.2"
  },
  "toc": {
   "base_numbering": 1,
   "nav_menu": {
    "height": "214px",
    "width": "570px"
   },
   "number_sections": true,
   "sideBar": true,
   "skip_h1_title": false,
   "title_cell": "Table of Contents",
   "title_sidebar": "Contents",
   "toc_cell": false,
   "toc_position": {},
   "toc_section_display": true,
   "toc_window_display": true
  }
 },
 "nbformat": 4,
 "nbformat_minor": 2
}
